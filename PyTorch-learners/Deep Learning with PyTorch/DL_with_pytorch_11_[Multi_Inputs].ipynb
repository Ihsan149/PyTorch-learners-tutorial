{
  "nbformat": 4,
  "nbformat_minor": 0,
  "metadata": {
    "colab": {
      "name": "DL-with-pytorch - 11 [Multi-Inputs].ipynb",
      "provenance": [],
      "collapsed_sections": []
    },
    "kernelspec": {
      "name": "python3",
      "display_name": "Python 3"
    },
    "accelerator": "GPU"
  },
  "cells": [
    {
      "cell_type": "markdown",
      "metadata": {
        "id": "bIAYbYajk1w9",
        "colab_type": "text"
      },
      "source": [
        "# Multi Input networks\n",
        "- In many cases, the problem and dataset of interest requires multiple inputs to a prediction model\n",
        "- In this tutorial, we learn how to implement and train multi-input networks with the Quora question retrieval dataset"
      ]
    },
    {
      "cell_type": "code",
      "metadata": {
        "id": "8yy37hEYOEiQ",
        "colab_type": "code",
        "outputId": "92b84ac0-e171-4c4b-a7e8-c072e7a7dc9e",
        "colab": {
          "base_uri": "https://localhost:8080/",
          "height": 35
        }
      },
      "source": [
        "import numpy as np\n",
        "import pandas as pd\n",
        "import torch, torchvision\n",
        "import torch.nn as nn\n",
        "import torch.nn.functional as F\n",
        "torch.__version__"
      ],
      "execution_count": 3,
      "outputs": [
        {
          "output_type": "execute_result",
          "data": {
            "text/plain": [
              "'1.3.1'"
            ]
          },
          "metadata": {
            "tags": []
          },
          "execution_count": 3
        }
      ]
    },
    {
      "cell_type": "markdown",
      "metadata": {
        "id": "ewrw93tt2BfV",
        "colab_type": "text"
      },
      "source": [
        "## 1. Import & process dataset\n",
        "- Quora question retrieval dataset\n",
        "- Find out whether the two questions are equivalent or not (i.e., duplicate)\n",
        "- Source: http://qim.fs.quoracdn.net/quora_duplicate_questions.tsv"
      ]
    },
    {
      "cell_type": "code",
      "metadata": {
        "id": "SPjXQWMHZyov",
        "colab_type": "code",
        "colab": {
          "base_uri": "https://localhost:8080/",
          "height": 251
        },
        "outputId": "68ae7380-cb08-425e-86b7-75075afae152"
      },
      "source": [
        "data = pd.read_csv(\"http://qim.fs.quoracdn.net/quora_duplicate_questions.tsv\", sep = \"\\t\")\n",
        "print(data.shape)\n",
        "data.head()"
      ],
      "execution_count": 6,
      "outputs": [
        {
          "output_type": "stream",
          "text": [
            "(404290, 6)\n"
          ],
          "name": "stdout"
        },
        {
          "output_type": "execute_result",
          "data": {
            "text/html": [
              "<div>\n",
              "<style scoped>\n",
              "    .dataframe tbody tr th:only-of-type {\n",
              "        vertical-align: middle;\n",
              "    }\n",
              "\n",
              "    .dataframe tbody tr th {\n",
              "        vertical-align: top;\n",
              "    }\n",
              "\n",
              "    .dataframe thead th {\n",
              "        text-align: right;\n",
              "    }\n",
              "</style>\n",
              "<table border=\"1\" class=\"dataframe\">\n",
              "  <thead>\n",
              "    <tr style=\"text-align: right;\">\n",
              "      <th></th>\n",
              "      <th>id</th>\n",
              "      <th>qid1</th>\n",
              "      <th>qid2</th>\n",
              "      <th>question1</th>\n",
              "      <th>question2</th>\n",
              "      <th>is_duplicate</th>\n",
              "    </tr>\n",
              "  </thead>\n",
              "  <tbody>\n",
              "    <tr>\n",
              "      <th>0</th>\n",
              "      <td>0</td>\n",
              "      <td>1</td>\n",
              "      <td>2</td>\n",
              "      <td>What is the step by step guide to invest in sh...</td>\n",
              "      <td>What is the step by step guide to invest in sh...</td>\n",
              "      <td>0</td>\n",
              "    </tr>\n",
              "    <tr>\n",
              "      <th>1</th>\n",
              "      <td>1</td>\n",
              "      <td>3</td>\n",
              "      <td>4</td>\n",
              "      <td>What is the story of Kohinoor (Koh-i-Noor) Dia...</td>\n",
              "      <td>What would happen if the Indian government sto...</td>\n",
              "      <td>0</td>\n",
              "    </tr>\n",
              "    <tr>\n",
              "      <th>2</th>\n",
              "      <td>2</td>\n",
              "      <td>5</td>\n",
              "      <td>6</td>\n",
              "      <td>How can I increase the speed of my internet co...</td>\n",
              "      <td>How can Internet speed be increased by hacking...</td>\n",
              "      <td>0</td>\n",
              "    </tr>\n",
              "    <tr>\n",
              "      <th>3</th>\n",
              "      <td>3</td>\n",
              "      <td>7</td>\n",
              "      <td>8</td>\n",
              "      <td>Why am I mentally very lonely? How can I solve...</td>\n",
              "      <td>Find the remainder when [math]23^{24}[/math] i...</td>\n",
              "      <td>0</td>\n",
              "    </tr>\n",
              "    <tr>\n",
              "      <th>4</th>\n",
              "      <td>4</td>\n",
              "      <td>9</td>\n",
              "      <td>10</td>\n",
              "      <td>Which one dissolve in water quikly sugar, salt...</td>\n",
              "      <td>Which fish would survive in salt water?</td>\n",
              "      <td>0</td>\n",
              "    </tr>\n",
              "  </tbody>\n",
              "</table>\n",
              "</div>"
            ],
            "text/plain": [
              "   id  qid1  ...                                          question2 is_duplicate\n",
              "0   0     1  ...  What is the step by step guide to invest in sh...            0\n",
              "1   1     3  ...  What would happen if the Indian government sto...            0\n",
              "2   2     5  ...  How can Internet speed be increased by hacking...            0\n",
              "3   3     7  ...  Find the remainder when [math]23^{24}[/math] i...            0\n",
              "4   4     9  ...            Which fish would survive in salt water?            0\n",
              "\n",
              "[5 rows x 6 columns]"
            ]
          },
          "metadata": {
            "tags": []
          },
          "execution_count": 6
        }
      ]
    },
    {
      "cell_type": "code",
      "metadata": {
        "id": "SxDHXFEsf5em",
        "colab_type": "code",
        "colab": {}
      },
      "source": [
        "# we use only 10000 first instances and 10 tokens for each question for faster training in this tutorial\n",
        "# you can try learning with all instances yourself and compare the results!\n",
        "num_instances, max_length = 10000, 10\n",
        "\n",
        "data = data.iloc[:num_instances]\n",
        "q1 = [str(x).split() for x in data[\"question1\"]]\n",
        "q2 = [str(x).split() for x in data[\"question2\"]]"
      ],
      "execution_count": 0,
      "outputs": []
    },
    {
      "cell_type": "code",
      "metadata": {
        "id": "fJ8M3h4bb6AT",
        "colab_type": "code",
        "colab": {}
      },
      "source": [
        "# gather unique tokens and convert into list for indexing\n",
        "unique_tokens = set()\n",
        "for i in range(len(q1)):\n",
        "  unique_tokens.update(q1[i])\n",
        "  unique_tokens.update(q2[i])\n",
        "unique_tokens = list(unique_tokens)"
      ],
      "execution_count": 0,
      "outputs": []
    },
    {
      "cell_type": "code",
      "metadata": {
        "id": "GGbC_Hmib7BE",
        "colab_type": "code",
        "colab": {}
      },
      "source": [
        "# create X, y data\n",
        "# note that there are two X data (X_data_1, X_data_2)!\n",
        "y_data = data[\"is_duplicate\"].values\n",
        "X_data_1, X_data_2 = np.zeros((num_instances, max_length)), np.zeros((num_instances, max_length))\n",
        "\n",
        "for i in range(len(q1)):\n",
        "  if len(q1[i]) < max_length:\n",
        "    for j in range(len(q1[i])):\n",
        "      X_data_1[i][j] = unique_tokens.index(q1[i][j])\n",
        "  else:\n",
        "    for j in range(max_length):\n",
        "      X_data_1[i][j] = unique_tokens.index(q1[i][j])\n",
        "\n",
        "for i in range(len(q2)):\n",
        "  if len(q2[i]) < max_length:\n",
        "    for j in range(len(q2[i])):\n",
        "      X_data_2[i][j] = unique_tokens.index(q2[i][j])\n",
        "  else:\n",
        "    for j in range(max_length):\n",
        "      X_data_2[i][j] = unique_tokens.index(q2[i][j])"
      ],
      "execution_count": 0,
      "outputs": []
    },
    {
      "cell_type": "code",
      "metadata": {
        "id": "6KV4rDQ0c1mm",
        "colab_type": "code",
        "colab": {}
      },
      "source": [
        "# generate dataset and data loader instances\n",
        "# we use SubsetRandomSampler to sample test instances here\n",
        "from torch.utils.data.sampler import SubsetRandomSampler\n",
        "\n",
        "class QuoraDataset(torch.utils.data.Dataset):\n",
        "  def __init__(self):\n",
        "    self.x1 = X_data_1\n",
        "    self.x2 = X_data_2\n",
        "    self.y = y_data.astype(\"int64\")\n",
        "  \n",
        "  def __getitem__(self, idx):\n",
        "    return self.x1[idx], self.x2[idx], self.y[idx]\n",
        "  \n",
        "  def __len__(self):\n",
        "    return len(self.x1)\n",
        "\n",
        "dataset = QuoraDataset()\n",
        "NUM_INSTANCES = len(dataset)\n",
        "TEST_RATIO = 0.3\n",
        "TEST_SIZE = int(NUM_INSTANCES * 0.3)\n",
        "\n",
        "indices = list(range(NUM_INSTANCES))\n",
        "\n",
        "test_idx = np.random.choice(indices, size = TEST_SIZE, replace = False)\n",
        "train_idx = list(set(indices) - set(test_idx))\n",
        "train_sampler, test_sampler = SubsetRandomSampler(train_idx), SubsetRandomSampler(test_idx)\n",
        "\n",
        "train_loader = torch.utils.data.DataLoader(dataset, batch_size = 128, sampler = train_sampler)\n",
        "test_loader = torch.utils.data.DataLoader(dataset, batch_size = 128, sampler = test_sampler)"
      ],
      "execution_count": 0,
      "outputs": []
    },
    {
      "cell_type": "markdown",
      "metadata": {
        "id": "9nznVMdo5edZ",
        "colab_type": "text"
      },
      "source": [
        "## 2. Creating Multi Input Network\n",
        "\n",
        "- Create and train Multi Input Network for question retrieval"
      ]
    },
    {
      "cell_type": "code",
      "metadata": {
        "id": "AQawpMRPI7jm",
        "colab_type": "code",
        "colab": {}
      },
      "source": [
        "# create CNN with one convolution/pooling layer\n",
        "class net(nn.Module):\n",
        "  def __init__(self, input_dim, embedding_dim, num_words, num_hidden_cells):\n",
        "    super(net, self).__init__()\n",
        "    self.embedding = nn.Embedding(num_words, embedding_dim)\n",
        "    self.dense_1 = nn.Linear(embedding_dim * input_dim, num_hidden_cells)\n",
        "    self.dense_2 = nn.Linear(embedding_dim * input_dim, num_hidden_cells)\n",
        "    self.final_dense = nn.Linear(num_hidden_cells * 2, 2)     \n",
        "    \n",
        "  def forward(self, x1, x2):\n",
        "    x1, x2 = self.embedding(x1), self.embedding(x2)\n",
        "    x1, x2 = x1.view(x1.size(0), -1), x2.view(x2.size(0), -1)\n",
        "    x1, x2 = self.dense_1(x1), self.dense_2(x2)\n",
        "    x = torch.cat((x1, x2), dim = 1)\n",
        "    x = self.final_dense(x)\n",
        "    return x"
      ],
      "execution_count": 0,
      "outputs": []
    },
    {
      "cell_type": "code",
      "metadata": {
        "id": "rP0Gt5E9ajmd",
        "colab_type": "code",
        "colab": {}
      },
      "source": [
        "# hyperparameters\n",
        "INPUT_DIM = max_length\n",
        "EMBEDDING_DIM = 50\n",
        "NUM_WORDS = len(unique_tokens)\n",
        "HIDDEN_SIZE = 30\n",
        "LEARNING_RATE = 1e-2\n",
        "NUM_EPOCHS = 10"
      ],
      "execution_count": 0,
      "outputs": []
    },
    {
      "cell_type": "code",
      "metadata": {
        "id": "cPBm8qDrSWsi",
        "colab_type": "code",
        "colab": {}
      },
      "source": [
        "model = net(INPUT_DIM, EMBEDDING_DIM, NUM_WORDS, HIDDEN_SIZE)\n",
        "criterion = nn.CrossEntropyLoss()   # do not need softmax layer when using CEloss criterion\n",
        "optimizer = torch.optim.Adam(model.parameters(), lr = LEARNING_RATE)"
      ],
      "execution_count": 0,
      "outputs": []
    },
    {
      "cell_type": "code",
      "metadata": {
        "id": "SEBtAPYCFeic",
        "colab_type": "code",
        "outputId": "6509c82d-c8a0-4f91-913c-d02c543d59b5",
        "colab": {
          "base_uri": "https://localhost:8080/",
          "height": 199
        }
      },
      "source": [
        "# training for NUM_EPOCHS\n",
        "for i in range(NUM_EPOCHS):\n",
        "  temp_loss = []\n",
        "  for x1, x2, y in train_loader:\n",
        "    x1, x2 = x1.long(), x2.long()\n",
        "    outputs = model(x1, x2)\n",
        "    loss = criterion(outputs, y)\n",
        "    temp_loss.append(loss.item())\n",
        "    \n",
        "    optimizer.zero_grad()\n",
        "    loss.backward()\n",
        "    optimizer.step()\n",
        "    \n",
        "  print(\"Loss at {}th epoch: {}\".format(i, np.mean(temp_loss)))"
      ],
      "execution_count": 39,
      "outputs": [
        {
          "output_type": "stream",
          "text": [
            "Loss at 0th epoch: 8.358021567057056e-05\n",
            "Loss at 1th epoch: 6.927385127875658e-05\n",
            "Loss at 2th epoch: 5.8683096689161506e-05\n",
            "Loss at 3th epoch: 5.074793185816485e-05\n",
            "Loss at 4th epoch: 4.445249596756185e-05\n",
            "Loss at 5th epoch: 3.919280668262879e-05\n",
            "Loss at 6th epoch: 3.4757104962905446e-05\n",
            "Loss at 7th epoch: 3.1304369787738486e-05\n",
            "Loss at 8th epoch: 2.82746555802243e-05\n",
            "Loss at 9th epoch: 2.5681897552038372e-05\n"
          ],
          "name": "stdout"
        }
      ]
    },
    {
      "cell_type": "markdown",
      "metadata": {
        "id": "qpAJUiHm529m",
        "colab_type": "text"
      },
      "source": [
        "## 3. Evaluation\n",
        "- Evaluate the trained multi input model with accuracy score \n",
        "  - Store probability of each instance to a list and compare it with true y label"
      ]
    },
    {
      "cell_type": "code",
      "metadata": {
        "id": "txXH3dknFpSx",
        "colab_type": "code",
        "outputId": "2eb7e09f-cc17-405e-c95a-88357c3809fb",
        "colab": {
          "base_uri": "https://localhost:8080/",
          "height": 74
        }
      },
      "source": [
        "y_pred, y_true = [], []\n",
        "with torch.no_grad():\n",
        "  for x1, x2, y in test_loader:\n",
        "    x1, x2 = x1.long(), x2.long()\n",
        "    outputs = F.softmax(model(x1, x2)).max(1)[-1]       # predicted label\n",
        "    y_true += list(y.numpy())                # true label\n",
        "    y_pred += list(outputs.numpy())   "
      ],
      "execution_count": 40,
      "outputs": [
        {
          "output_type": "stream",
          "text": [
            "/usr/local/lib/python3.6/dist-packages/ipykernel_launcher.py:5: UserWarning: Implicit dimension choice for softmax has been deprecated. Change the call to include dim=X as an argument.\n",
            "  \"\"\"\n"
          ],
          "name": "stderr"
        }
      ]
    },
    {
      "cell_type": "code",
      "metadata": {
        "id": "HV1s3xf5Frkl",
        "colab_type": "code",
        "outputId": "f335b304-4c50-4447-9483-476be56f784d",
        "colab": {
          "base_uri": "https://localhost:8080/",
          "height": 35
        }
      },
      "source": [
        "# evaluation result\n",
        "from sklearn.metrics import accuracy_score\n",
        "accuracy_score(y_true, y_pred)"
      ],
      "execution_count": 41,
      "outputs": [
        {
          "output_type": "execute_result",
          "data": {
            "text/plain": [
              "0.6016666666666667"
            ]
          },
          "metadata": {
            "tags": []
          },
          "execution_count": 41
        }
      ]
    }
  ]
}